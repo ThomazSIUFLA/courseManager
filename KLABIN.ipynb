{
  "nbformat": 4,
  "nbformat_minor": 0,
  "metadata": {
    "colab": {
      "name": "KLABIN.ipynb",
      "provenance": [],
      "collapsed_sections": [],
      "include_colab_link": true
    },
    "kernelspec": {
      "name": "python3",
      "display_name": "Python 3"
    },
    "language_info": {
      "name": "python"
    }
  },
  "cells": [
    {
      "cell_type": "markdown",
      "metadata": {
        "id": "view-in-github",
        "colab_type": "text"
      },
      "source": [
        "<a href=\"https://colab.research.google.com/github/ThomazSIUFLA/CourseManager/blob/master/KLABIN.ipynb\" target=\"_parent\"><img src=\"https://colab.research.google.com/assets/colab-badge.svg\" alt=\"Open In Colab\"/></a>"
      ]
    },
    {
      "cell_type": "code",
      "source": [
        "# Nome da pasta referente ao passo a passo\n",
        "p_a_p_1 = '1_passo_a_passo/'\n",
        "\n",
        "# Caminho da pasta com os arquivos\n",
        "path = '/content/drive/MyDrive/KLABIN/'\n",
        "\n",
        "# Nome dos arquivos\n",
        "path_estradas = 'Estradas.shp' # estradas\n",
        "path_outras_areas = 'Outras_Areas.shp' # outras áreas\n",
        "path_infraestrutura = 'Infraestrutura.shp' # infraestrutura\n",
        "path_area_p = 'Area_Produtiva.shp' # área produtiva\n",
        "path_veg = 'Vegetacao.shp' # vegetação\n",
        "path_app = 'APP.shp' # app\n",
        "path_mde = 'Declividade_DSR.tif' # MDE\n",
        "\n",
        "\n",
        "# Selecionando dos arquivos apenas aqueles que entrarão como área produtiva\n",
        "# Dos arquivos lidos acima, somente algumas feições dentro dos shapes entrarão como área produtiva, nessa parte é realizada a seleção\n",
        "\n",
        "# Cria uma lista para cada arquivo com as codificações dos tipos que entrarão como área produtiva\n",
        "list_estradas = [2]\n",
        "list_oareas = [13, 11, 16, 17, 18, 30, 31, 32]\n",
        "list_infra = [0, 12]\n",
        "\n",
        "\n",
        "# Configurando drive\n",
        "# Essa parte habilita o drive para que possamos trabalhar com arquivos presentes no mesmo\n",
        "from google.colab import drive\n",
        "drive.mount('/content/drive')\n",
        "\n",
        "# Configurando ambiente para processamento dos dados\n",
        "!pip install wheel pandas shapely gdal fiona pyproj six rtree geopandas rasterio\n",
        "\n",
        "# Importando bibliotecas necessárias\n",
        "import gdal\n",
        "import os\n",
        "import ogr\n",
        "import geopandas as gpd\n",
        "import pandas as pd\n",
        "import numpy as np\n",
        "\n",
        "\n",
        "# Lendo arquivos necessários\n",
        "estradas = gpd.read_file(path + path_estradas) # estradas\n",
        "outras_areas = gpd.read_file(path + path_outras_areas) # outras áreas\n",
        "infraestrutura = gpd.read_file(path + path_infraestrutura) # infraestrutura\n",
        "area_p = gpd.read_file(path + path_area_p) # área produtiva\n",
        "veg = gpd.read_file(path + path_veg) # vegetação\n",
        "app = gpd.read_file(path + path_app) # app\n",
        "\n",
        "\n",
        "# Seleciona somente as feições produtivas (de acordo dados inseridos na lista)\n",
        "estr_prod = estradas[estradas['TIPO'].isin(list_estradas)]\n",
        "oareas_prod = outras_areas[outras_areas['TIPO'].isin(list_oareas)]\n",
        "infra_prod = infraestrutura[infraestrutura['TIPO'].isin(list_infra)]\n",
        "\n",
        "# Unindo arquivos\n",
        "# União das feições dos arquivos que entrarão como área produtiva\n",
        "areap_oareas = gpd.overlay(area_p, oareas_prod, how='union', make_valid = False)\n",
        "areap_oareas_infra = gpd.overlay(areap_oareas, infra_prod, how='union', make_valid = False)\n",
        "\n",
        "\n",
        "# Dissolve seguido de buffer de 10m nas áreas unidas acima\n",
        "areap_oareas_infra_buff_dis = areap_oareas_infra.dissolve()\n",
        "# A ferramenta buffer faz com que o novo arquivo se transforme em GeoSerie ao invés de GeoDataFrame\n",
        "areap_oareas_infra_buff_dis['geometry'] = areap_oareas_infra_buff_dis.geometry.buffer(10)\n",
        "\n",
        "\n",
        "# Cortando as estradas apartir do dissolve/buffer\n",
        "estr_prod_clip = gpd.clip(estr_prod, areap_oareas_infra_buff_dis)\n",
        "\n",
        "# Ajeitando colunas\n",
        "# Alterando o nome das colunas\n",
        "areap_oareas_infra = areap_oareas_infra.loc[:, ~areap_oareas_infra.columns.str.endswith('_2')]\n",
        "areap_oareas_infra = areap_oareas_infra.loc[:, ~areap_oareas_infra.columns.str.endswith('_1')]\n",
        "\n",
        "# Removendo colunas duplicadas\n",
        "areap_oareas_infra = areap_oareas_infra.loc[:,~areap_oareas_infra.columns.duplicated()]\n",
        "\n",
        "# Excluindo colunas indesejadas\n",
        "areap_oareas_infra = areap_oareas_infra.drop(areap_oareas_infra.filter(regex='created').columns, axis=1)\n",
        "areap_oareas_infra = areap_oareas_infra.drop(areap_oareas_infra.filter(regex='last_edi').columns, axis=1)\n",
        "areap_oareas_infra = areap_oareas_infra.drop(areap_oareas_infra.filter(regex='SHAPE_S').columns, axis=1)\n",
        "areap_oareas_infra = areap_oareas_infra.drop(areap_oareas_infra.filter(regex='Global').columns, axis=1)\n",
        "\n",
        "# Unindo as estradas após o clip com o merge das demais áreas\n",
        "area_prod = gpd.overlay(areap_oareas_infra, estr_prod_clip, how='union', make_valid = False)\n",
        "\n",
        "# Dissolve\n",
        "# Dissolvendo o arquivo com a área produtiva\n",
        "area_prod_dis = area_prod.dissolve()\n",
        "\n",
        "\n",
        "# Tirando espaços dentro do dissolve\n",
        "# Quando o dissolve é feito restam alguns \"buracos\", essa parte corrigiremos os buracos\n",
        "# Criando um polígono convexo que contenha todos os pontos do shape dissolvido\n",
        "poli = area_prod_dis['geometry'].convex_hull\n",
        "poli = gpd.GeoDataFrame(poli, crs = area_p.crs) # transforma em geodataframe o arquivo do explode\n",
        "poli.columns = ['geometry']\n",
        "\n",
        "# Diferença entre o dissolve e o poligono gerado\n",
        "buracos = poli.difference(area_prod_dis, align=True)\n",
        "buracos = gpd.GeoDataFrame(buracos, crs = area_p.crs)\n",
        "buracos.columns = ['geometry']\n",
        "\n",
        "\n",
        "# Multiparte para single parte (para eliminar polígonos indesejados)\n",
        "area_prod_dis_single = buracos.geometry.explode()\n",
        "\n",
        "# Excluindo polígono de fora\n",
        "area_prod_dis_single = gpd.GeoDataFrame(area_prod_dis_single, crs = area_p.crs) # transforma em geodataframe o arquivo do explode\n",
        "area_prod_dis_single.columns = ['geometry'] # da nome pra coluna\n",
        "area_prod_dis_single['area'] = area_prod_dis_single.geometry.area # calcula a área\n",
        "area_prod_dis_single = area_prod_dis_single.loc[area_prod_dis_single['area'] != area_prod_dis_single['area'].max()] # descarta a feição de maior área\n",
        "\n",
        "\n",
        "# Unido arquivo acima com o dissolve\n",
        "area_prod = gpd.overlay(area_prod_dis, area_prod_dis_single, how='union', make_valid = False)\n",
        "\n",
        "\n",
        "# Faz dissolve novamente com o arquivo da última união\n",
        "area_prod = area_prod.dissolve()\n",
        "\n",
        "\n",
        "# Interseção entre os arquivos dissolve e vegetação, para retirar do arquivo as áreas com vegetação, essas não entrarão como área produtiva\n",
        "area_prod_inter = gpd.overlay(area_prod, veg, how ='intersection', make_valid = False)\n",
        "area_prod_inter = area_prod_inter.loc[:,~area_prod_inter.columns.duplicated()] # remove colunas duplicadas\n",
        "\n",
        "\n",
        "# Faz a diferença simétrica do arquivo da interseção e do dissolve\n",
        "a_prod_parcial = gpd.overlay(area_prod_inter, area_prod, how = 'symmetric_difference', make_valid = False)\n",
        "\n",
        "\n",
        "# Seleciona feições não especificadas nas listas\n",
        "estr_n_prod = estradas[~estradas['TIPO'].isin(list_estradas)]\n",
        "oareas_n_prod = outras_areas[~outras_areas['TIPO'].isin(list_oareas)]\n",
        "infra_n_prod = infraestrutura[~infraestrutura['TIPO'].isin(list_infra)]\n",
        "\n",
        "\n",
        "# Unindo áreas que não entrarão como área produtiva\n",
        "app_veg = gpd.overlay(app, veg, how='union', make_valid = False) # app e vegetação\n",
        "estr_oareas_n_prod = gpd.overlay(estr_n_prod, oareas_n_prod, how='union', make_valid = False) # estradas e outras áreas\n",
        "estr_oareas_n_prod_app_veg = gpd.overlay(app_veg, estr_oareas_n_prod, how='union', make_valid = False) # app, vegetação, estradas e outras áreas\n",
        "area_n_p = gpd.overlay(estr_oareas_n_prod_app_veg, infra_n_prod, how='union', make_valid = False) # app, vegetação, estradas, outras áreas e infraestrutura\n",
        "\n",
        "\n"
      ],
      "metadata": {
        "id": "P5kdr1U5zfEI"
      },
      "execution_count": null,
      "outputs": []
    },
    {
      "cell_type": "code",
      "source": [
        "# Removendo áreas unidas acima\n",
        "area_prod_final = a_prod_parcial.difference(area_n_p, align=True)\n",
        "# A ferramenta acima faz com que o novo arquivo se transforme em GeoSerie ao invés de GeoDataFrame\n",
        "# Transforma o arquvo em GeoDataFrame\n",
        "area_prod_final = gpd.GeoDataFrame(area_prod_final, crs = area_p.crs)\n",
        "area_prod_final.columns = ['geometry']\n",
        "area_prod_final = area_prod_final[~area_prod_final['geometry'].isnull()]\n",
        "area_prod_final.to_file(path + p_a_p_1 + 'area_prod_final.shp') # salva arquivo de área produtiva final\n",
        "\n",
        "# Gera um buffer de 4.5m no shape de estradas não produtivas\n",
        "estr_n_prod_buff = estr_n_prod\n",
        "estr_n_prod_buff['geometry'] = estr_n_prod_buff.geometry.buffer(4.5)\n",
        "estr_n_prod_buff.to_file(path + p_a_p_1 + 'estr_n_prod_buff.shp') # salva o arquivo na pasta\n",
        "\n",
        "# Calcula a declividade a partir do MDE\n",
        "os.system('gdaldem slope -compute_edges '+str(path)+str(path_mde)+' '+str(path)+str(p_a_p_1)+str('slope.tif')+'')"
      ],
      "metadata": {
        "colab": {
          "base_uri": "https://localhost:8080/"
        },
        "id": "154vn3jskGfK",
        "outputId": "f260bf49-db7e-45f3-b3b1-67d726775013"
      },
      "execution_count": null,
      "outputs": [
        {
          "output_type": "stream",
          "name": "stderr",
          "text": [
            "/usr/local/lib/python3.7/dist-packages/geopandas/base.py:31: UserWarning: The indices of the two GeoSeries are different.\n",
            "  warn(\"The indices of the two GeoSeries are different.\")\n",
            "/usr/local/lib/python3.7/dist-packages/ipykernel_launcher.py:5: FutureWarning: Assigning CRS to a GeoDataFrame without a geometry column is now deprecated and will not be supported in the future.\n",
            "  \"\"\"\n",
            "/usr/local/lib/python3.7/dist-packages/geopandas/geodataframe.py:1351: SettingWithCopyWarning: \n",
            "A value is trying to be set on a copy of a slice from a DataFrame.\n",
            "Try using .loc[row_indexer,col_indexer] = value instead\n",
            "\n",
            "See the caveats in the documentation: https://pandas.pydata.org/pandas-docs/stable/user_guide/indexing.html#returning-a-view-versus-a-copy\n",
            "  super().__setitem__(key, value)\n"
          ]
        },
        {
          "output_type": "execute_result",
          "data": {
            "text/plain": [
              "0"
            ]
          },
          "metadata": {},
          "execution_count": 2
        }
      ]
    },
    {
      "cell_type": "code",
      "source": [
        "# Recorta o raster de declividade utilizando o buffer gerado anteriormente como máscara\n",
        "os.system('gdalwarp -of GTiff -cutline /content/drive/MyDrive/KLABIN/1_passo_a_passo/area_prod_final.shp -cl area_prod_final -crop_to_cutline /content/drive/MyDrive/KLABIN/1_passo_a_passo/slope.tif /content/drive/MyDrive/KLABIN/1_passo_a_passo/clip.tif')\n"
      ],
      "metadata": {
        "colab": {
          "base_uri": "https://localhost:8080/"
        },
        "id": "CfJuOiWj_nb5",
        "outputId": "e5327bc4-c5f0-4512-c8ff-f620816ac4e9"
      },
      "execution_count": null,
      "outputs": [
        {
          "output_type": "execute_result",
          "data": {
            "text/plain": [
              "256"
            ]
          },
          "metadata": {},
          "execution_count": 3
        }
      ]
    },
    {
      "cell_type": "code",
      "source": [
        "\n",
        "area_prod_final.to_file(path + p_a_p_1 + 'area_prod_final.shp')"
      ],
      "metadata": {
        "id": "FSGJxL2wQis9"
      },
      "execution_count": null,
      "outputs": []
    },
    {
      "cell_type": "code",
      "source": [
        "area_prod_final.to_file(path + p_a_p_1 + 'area_prod_final.shp')"
      ],
      "metadata": {
        "id": "nMgsyPZyRaft"
      },
      "execution_count": null,
      "outputs": []
    },
    {
      "cell_type": "code",
      "source": [
        "area_prod_final['geometry'].isnull().values.any()"
      ],
      "metadata": {
        "colab": {
          "base_uri": "https://localhost:8080/"
        },
        "id": "SCDuNv7XIHTb",
        "outputId": "c8f6931e-93b8-41fd-9c14-9b8aad524005"
      },
      "execution_count": null,
      "outputs": [
        {
          "output_type": "execute_result",
          "data": {
            "text/plain": [
              "True"
            ]
          },
          "metadata": {},
          "execution_count": 5
        }
      ]
    },
    {
      "cell_type": "code",
      "source": [
        "# Recorta o raster de declividade utilizando o buffer gerado anteriormente como máscara\n",
        "os.system('gdalwarp -of GTiff -cutline /content/drive/MyDrive/KLABIN/1_passo_a_passo/area_prod_final.shp -cl area_prod_final -crop_to_cutline /content/drive/MyDrive/KLABIN/1_passo_a_passo/slope.tif /content/drive/MyDrive/KLABIN/1_passo_a_passo/clip.tif')\n"
      ],
      "metadata": {
        "colab": {
          "base_uri": "https://localhost:8080/"
        },
        "id": "ioanfinD0cnh",
        "outputId": "cdefdc6f-86af-4139-bf0b-4900c118804a"
      },
      "execution_count": null,
      "outputs": [
        {
          "output_type": "execute_result",
          "data": {
            "text/plain": [
              "256"
            ]
          },
          "metadata": {},
          "execution_count": 13
        }
      ]
    },
    {
      "cell_type": "code",
      "source": [
        "gdal_translate -projwin 541101.0362 7245990.6843 548809.8174 7238167.6405 -a_nodata 0.0 -of GTiff C:/Users/ZETTA/Downloads/slope.tif C:/Users/ZETTA/AppData/Local/Temp/processing_qiBlag/6a96ffd1aaff45a795fcf3414986b589/OUTPUT.tif\n",
        "\n",
        "\n",
        "\n",
        "# Recorta o raster de declividade utilizando o buffer gerado anteriormente como máscara\n",
        "os.system('gdalwarp -of GTiff -cutline /content/drive/MyDrive/KLABIN/1_passo_a_passo/area_p_buffer.shp -cl area_p_buffer -crop_to_cutline /content/drive/MyDrive/KLABIN/1_passo_a_passo/slope.tif /content/drive/MyDrive/KLABIN/1_passo_a_passo/clip.tif')\n",
        "# Grava geometrias vetoriais da estrada no raster recortado no passo anterior\n",
        "os.system('gdal_rasterize -l estrada_buffer -burn 999.0 /content/drive/MyDrive/KLABIN/estrada_buffer.shp /content/drive/MyDrive/KLABIN/slope.tif')"
      ],
      "metadata": {
        "id": "DrkTEDOG0fMN"
      },
      "execution_count": null,
      "outputs": []
    },
    {
      "cell_type": "code",
      "source": [
        "# Nome da pasta referente ao passo a passo\n",
        "p_a_p_2 = '2_passo_a_passo/'\n",
        "\n",
        "# Caminho da pasta com os arquivos\n",
        "path = '/content/drive/MyDrive/KLABIN/'\n",
        "\n",
        "# Nome dos arquivos\n",
        "path_estradas = 'Estradas.shp' # estradas\n",
        "path_outras_areas = 'Outras_Areas.shp' # outras áreas\n",
        "path_infraestrutura = 'Infraestrutura.shp' # infraestrutura\n",
        "path_area_p = 'Area_Produtiva.shp' # área produtiva\n",
        "path_mde = 'Declividade_DSR.tif' # MDE\n",
        "\n",
        "\n",
        "# Selecionando dos arquivos apenas aqueles que entrarão como área produtiva\n",
        "# Dos arquivos lidos acima, somente algumas feições dentro dos shapes entrarão como área produtiva, nessa parte é realizada a seleção\n",
        "\n",
        "# Cria uma lista para cada arquivo com as codificações dos tipos que entrarão como área produtiva\n",
        "list_estradas = [2]\n",
        "list_oareas = [13, 11, 16, 17, 18, 30, 31, 32]\n",
        "list_infra = [0, 12]\n",
        "\n",
        "\n",
        "# Configurando drive\n",
        "# Essa parte habilita o drive para que possamos trabalhar com arquivos presentes no mesmo\n",
        "from google.colab import drive\n",
        "drive.mount('/content/drive')\n",
        "\n",
        "# Configurando ambiente para processamento dos dados\n",
        "!pip install wheel pandas shapely gdal fiona pyproj six rtree geopandas rasterio\n",
        "\n",
        "# Importando bibliotecas necessárias\n",
        "import gdal\n",
        "import os\n",
        "import ogr\n",
        "import geopandas as gpd\n",
        "import pandas as pd\n",
        "import numpy as np\n",
        "\n",
        "\n",
        "# Lendo arquivos necessários\n",
        "estradas = gpd.read_file(path + path_estradas) # estradas\n",
        "outras_areas = gpd.read_file(path + path_outras_areas) # outras áreas\n",
        "infraestrutura = gpd.read_file(path + path_infraestrutura) # infraestrutura\n",
        "area_p = gpd.read_file(path + path_area_p) # área produtiva\n",
        "\n",
        "\n",
        "# Seleciona somente as feições produtivas (de acordo dados inseridos na lista)\n",
        "estr_prod = estradas[estradas['TIPO'].isin(list_estradas)]\n",
        "oareas_prod = outras_areas[outras_areas['TIPO'].isin(list_oareas)]\n",
        "infra_prod = infraestrutura[infraestrutura['TIPO'].isin(list_infra)]\n",
        "\n",
        "# Unindo arquivos\n",
        "# União das feições dos arquivos que entrarão como área produtiva\n",
        "areap_oareas = gpd.overlay(area_p, oareas_prod, how='union', make_valid = False)\n",
        "areap_oareas_infra = gpd.overlay(areap_oareas, infra_prod, how='union', make_valid = False)\n",
        "areap_oareas_infra.reindex(areap_oareas_infra.columns, axis = 'columns')\n",
        "\n",
        "# Dissolve seguido de buffer de 10m nas áreas unidas acima\n",
        "areap_oareas_infra_buff_dis = areap_oareas_infra.dissolve().buffer(10)\n",
        "# A ferramenta buffer faz com que o novo arquivo se transforme em GeoSerie ao invés de GeoDataFrame\n",
        "#areap_oareas_infra_buff_dis = areap_oareas_infra_dis\n",
        "#areap_oareas_infra_buff_dis['geometry'] = areap_oareas_infra_dis.geometry.buffer(10)\n",
        "\n",
        "\n",
        "# Cortando as estradas apartir do dissolve/buffer\n",
        "estr_prod_clip = gpd.clip(estr_prod, areap_oareas_infra_buff_dis)\n",
        "\n",
        "# Ajeitando colunas\n",
        "# Alterando o nome das colunas\n",
        "areap_oareas_infra = areap_oareas_infra.loc[:, ~areap_oareas_infra.columns.str.endswith('_2')]\n",
        "areap_oareas_infra = areap_oareas_infra.loc[:, ~areap_oareas_infra.columns.str.endswith('_1')]\n",
        "\n",
        "# Removendo colunas duplicadas\n",
        "areap_oareas_infra = areap_oareas_infra.loc[:,~areap_oareas_infra.columns.duplicated()]\n",
        "\n",
        "# Excluindo colunas indesejadas\n",
        "areap_oareas_infra = areap_oareas_infra.drop(areap_oareas_infra.filter(regex='created').columns, axis=1)\n",
        "areap_oareas_infra = areap_oareas_infra.drop(areap_oareas_infra.filter(regex='last_edi').columns, axis=1)\n",
        "areap_oareas_infra = areap_oareas_infra.drop(areap_oareas_infra.filter(regex='SHAPE_S').columns, axis=1)\n",
        "areap_oareas_infra = areap_oareas_infra.drop(areap_oareas_infra.filter(regex='Global').columns, axis=1)\n",
        "\n",
        "# Unindo as estradas após o clip com o merge das demais áreas\n",
        "area_prod = gpd.overlay(areap_oareas_infra, estr_prod_clip, how='union')\n",
        "#area_prod = areap_oareas_infra_estr.dissolve()\n",
        "\n",
        "# Criando coluna 'N' com valor 1\n",
        "area_prod['N'] = 1\n",
        "\n",
        "# Salva o arquivo\n",
        "area_prod.to_file(path + p_a_p_2 +'area_prod.shp')\n",
        "\n",
        "gdal.DEMProcessing((path + p_a_p_2 + 'slope.tif'), srcDS = (path + path_mde), format = 'GTiff', processing = 'slope')\n",
        "\n",
        "src = gdal.Open(path + p_a_p_2 + 'slope.tif')\n",
        "xmin, xres, xskew, ymax, yskew, yres  = src.GetGeoTransform()\n",
        "xmax = xmin + (src.RasterXSize * xres)\n",
        "ymin = ymax + (src.RasterYSize * yres)\n",
        "\n"
      ],
      "metadata": {
        "id": "O8cjWkq_6Eet",
        "colab": {
          "base_uri": "https://localhost:8080/"
        },
        "outputId": "4b0757ed-f4d1-4c3e-ad16-d12985ecbe7c"
      },
      "execution_count": null,
      "outputs": [
        {
          "output_type": "stream",
          "name": "stdout",
          "text": [
            "Drive already mounted at /content/drive; to attempt to forcibly remount, call drive.mount(\"/content/drive\", force_remount=True).\n",
            "Looking in indexes: https://pypi.org/simple, https://us-python.pkg.dev/colab-wheels/public/simple/\n",
            "Requirement already satisfied: wheel in /usr/local/lib/python3.7/dist-packages (0.37.1)\n",
            "Requirement already satisfied: pandas in /usr/local/lib/python3.7/dist-packages (1.3.5)\n",
            "Requirement already satisfied: shapely in /usr/local/lib/python3.7/dist-packages (1.8.2)\n",
            "Requirement already satisfied: gdal in /usr/local/lib/python3.7/dist-packages (2.2.2)\n",
            "Requirement already satisfied: fiona in /usr/local/lib/python3.7/dist-packages (1.8.21)\n",
            "Requirement already satisfied: pyproj in /usr/local/lib/python3.7/dist-packages (3.2.1)\n",
            "Requirement already satisfied: six in /usr/local/lib/python3.7/dist-packages (1.15.0)\n",
            "Requirement already satisfied: rtree in /usr/local/lib/python3.7/dist-packages (1.0.0)\n",
            "Requirement already satisfied: geopandas in /usr/local/lib/python3.7/dist-packages (0.10.2)\n",
            "Requirement already satisfied: rasterio in /usr/local/lib/python3.7/dist-packages (1.2.10)\n",
            "Requirement already satisfied: pytz>=2017.3 in /usr/local/lib/python3.7/dist-packages (from pandas) (2022.1)\n",
            "Requirement already satisfied: python-dateutil>=2.7.3 in /usr/local/lib/python3.7/dist-packages (from pandas) (2.8.2)\n",
            "Requirement already satisfied: numpy>=1.17.3 in /usr/local/lib/python3.7/dist-packages (from pandas) (1.21.6)\n",
            "Requirement already satisfied: attrs>=17 in /usr/local/lib/python3.7/dist-packages (from fiona) (22.1.0)\n",
            "Requirement already satisfied: click-plugins>=1.0 in /usr/local/lib/python3.7/dist-packages (from fiona) (1.1.1)\n",
            "Requirement already satisfied: click>=4.0 in /usr/local/lib/python3.7/dist-packages (from fiona) (7.1.2)\n",
            "Requirement already satisfied: certifi in /usr/local/lib/python3.7/dist-packages (from fiona) (2022.6.15)\n",
            "Requirement already satisfied: munch in /usr/local/lib/python3.7/dist-packages (from fiona) (2.5.0)\n",
            "Requirement already satisfied: setuptools in /usr/local/lib/python3.7/dist-packages (from fiona) (57.4.0)\n",
            "Requirement already satisfied: cligj>=0.5 in /usr/local/lib/python3.7/dist-packages (from fiona) (0.7.2)\n",
            "Requirement already satisfied: typing-extensions>=3.7 in /usr/local/lib/python3.7/dist-packages (from rtree) (4.1.1)\n",
            "Requirement already satisfied: snuggs>=1.4.1 in /usr/local/lib/python3.7/dist-packages (from rasterio) (1.4.7)\n",
            "Requirement already satisfied: affine in /usr/local/lib/python3.7/dist-packages (from rasterio) (2.3.1)\n",
            "Requirement already satisfied: pyparsing>=2.1.6 in /usr/local/lib/python3.7/dist-packages (from snuggs>=1.4.1->rasterio) (3.0.9)\n"
          ]
        },
        {
          "output_type": "stream",
          "name": "stderr",
          "text": [
            "/usr/local/lib/python3.7/dist-packages/ipykernel_launcher.py:55: UserWarning: `keep_geom_type=True` in overlay resulted in 353 dropped geometries of different geometry types than df1 has. Set `keep_geom_type=False` to retain all geometries\n",
            "/usr/local/lib/python3.7/dist-packages/ipykernel_launcher.py:56: UserWarning: `keep_geom_type=True` in overlay resulted in 417 dropped geometries of different geometry types than df1 has. Set `keep_geom_type=False` to retain all geometries\n",
            "/usr/local/lib/python3.7/dist-packages/ipykernel_launcher.py:84: UserWarning: `keep_geom_type=True` in overlay resulted in 2441 dropped geometries of different geometry types than df1 has. Set `keep_geom_type=False` to retain all geometries\n",
            "/usr/local/lib/python3.7/dist-packages/ipykernel_launcher.py:91: UserWarning: Column names longer than 10 characters will be truncated when saved to ESRI Shapefile.\n",
            "WARNING:fiona._env:Normalized/laundered field name: 'ID_TALHAO_1' to 'ID_TALHAO_'\n",
            "WARNING:fiona._env:Normalized/laundered field name: 'ID_TALHAO_2' to 'ID_TALHA_1'\n"
          ]
        }
      ]
    },
    {
      "cell_type": "code",
      "source": [
        "# Rasterização do shape para uniformização da área\n",
        "gdal.RasterizeLayer((path + p_a_p_2 + 'area_prod.tif'), (path + p_a_p_2 +'area_prod.shp'), format = 'GTiff', xRes = 12.5, yRes = 12.5, outputBounds = [str(xmin), str(ymin), str(xmax), str(ymax)], noData = 0)\n"
      ],
      "metadata": {
        "colab": {
          "base_uri": "https://localhost:8080/"
        },
        "id": "aCrf7p7fZb2a",
        "outputId": "a0fbe9c9-aab3-469a-d887-bc46f184b26d"
      },
      "execution_count": null,
      "outputs": [
        {
          "output_type": "execute_result",
          "data": {
            "text/plain": [
              "<osgeo.gdal.Dataset; proxy of <Swig Object of type 'GDALDatasetShadow *' at 0x7efe8170df90> >"
            ]
          },
          "metadata": {},
          "execution_count": 21
        }
      ]
    },
    {
      "cell_type": "code",
      "source": [
        "# Rasterização do shape para uniformização da área\n",
        "os.system('gdal_rasterize -l area_prod -tr 12.5 12.5 -te '+str(xmin)+' '+str(ymin)+' '+str(xmax)+' '+str(ymax)+' -a N -a_nodata 999 -ot Float32 -of GTiff /content/drive/MyDrive/KLABIN/2_passo_a_passo/area_prod.shp /content/drive/MyDrive/KLABIN/2_passo_a_passo/area_prod.tif')\n",
        "# Vetorização do arquivo raster \n",
        "#os.system('gdal_polygonize.py /content/drive/MyDrive/KLABIN/all_prod.tif /content/drive/MyDrive/KLABIN/all_prod.shp -f \"ESRI Shapefile\"')\n",
        "\n"
      ],
      "metadata": {
        "id": "D68mWJuRTslV",
        "colab": {
          "base_uri": "https://localhost:8080/"
        },
        "outputId": "6700e40f-3eac-4665-ee90-157b8f959bbe"
      },
      "execution_count": null,
      "outputs": [
        {
          "output_type": "execute_result",
          "data": {
            "text/plain": [
              "0"
            ]
          },
          "metadata": {},
          "execution_count": 20
        }
      ]
    },
    {
      "cell_type": "code",
      "source": [
        "# Calcula a declividade a partir do MDE\n",
        "os.system('gdaldem slope -compute_edges /content/drive/MyDrive/KLABIN/Declividade_DSR.tif /content/drive/MyDrive/KLABIN/slope.tif')"
      ],
      "metadata": {
        "colab": {
          "base_uri": "https://localhost:8080/"
        },
        "id": "ee4bfK38sVA5",
        "outputId": "defab2de-fb16-4077-cd8d-6341c499f181"
      },
      "execution_count": null,
      "outputs": [
        {
          "output_type": "execute_result",
          "data": {
            "text/plain": [
              "0"
            ]
          },
          "metadata": {},
          "execution_count": 4
        }
      ]
    },
    {
      "cell_type": "code",
      "source": [
        "src = gdal.Open('/content/drive/MyDrive/KLABIN/slope.tif')\n",
        "ulx, xres, xskew, uly, yskew, yres  = src.GetGeoTransform()\n",
        "print(ulx)\n",
        "print(uly)\n",
        "\n",
        "lrx = ulx + (src.RasterXSize * xres)\n",
        "lry = uly + (src.RasterYSize * yres)\n",
        "print(lrx)\n",
        "print(lry)"
      ],
      "metadata": {
        "colab": {
          "base_uri": "https://localhost:8080/"
        },
        "id": "cLHflrNuyL-Q",
        "outputId": "1804882b-c7dc-491d-fa75-64b9214799e9"
      },
      "execution_count": null,
      "outputs": [
        {
          "output_type": "stream",
          "name": "stdout",
          "text": [
            "541042.3124998639\n",
            "7246102.7500034515\n",
            "548892.3124998639\n",
            "7238102.7500034515\n"
          ]
        }
      ]
    },
    {
      "cell_type": "code",
      "source": [
        "# Transforma o arquivo raster em ASCII\n",
        "os.system('gdal_translate -of GTiff /content/drive/MyDrive/KLABIN/slope.tif /content/drive/MyDrive/KLABIN/decliv_texto.asc')"
      ],
      "metadata": {
        "colab": {
          "base_uri": "https://localhost:8080/"
        },
        "id": "sXdTLIe7v7gQ",
        "outputId": "e4158635-b208-409d-edd3-42189e9e0665"
      },
      "execution_count": null,
      "outputs": [
        {
          "output_type": "execute_result",
          "data": {
            "text/plain": [
              "0"
            ]
          },
          "metadata": {},
          "execution_count": 24
        }
      ]
    },
    {
      "cell_type": "code",
      "source": [
        "os.system('gdal_calc.py -A /content/drive/MyDrive/KLABIN/slope.tif --outfile=/content/drive/MyDrive/KLABIN/slope_class.tif --calc=\"(A<=37)*1+(A>37)*(A<=45)*2+(A>45)*3\"')"
      ],
      "metadata": {
        "colab": {
          "base_uri": "https://localhost:8080/"
        },
        "id": "8rmZMg3pL8rs",
        "outputId": "6785a6ca-5770-46aa-8a79-149685f6a0e6"
      },
      "execution_count": null,
      "outputs": [
        {
          "output_type": "execute_result",
          "data": {
            "text/plain": [
              "0"
            ]
          },
          "metadata": {},
          "execution_count": 5
        }
      ]
    },
    {
      "cell_type": "code",
      "source": [
        "os.system('gdal_reclassify.py /content/drive/MyDrive/KLABIN/slope.tif /content/drive/MyDrive/KLABIN/slope_class2.tif -c \"<37,<45,<100\" -r \"1,2,3\" -d 0 -n true -p \"COMPRESS=LZW\"')"
      ],
      "metadata": {
        "colab": {
          "base_uri": "https://localhost:8080/"
        },
        "id": "mAaJ1OohtxzY",
        "outputId": "d1fdcc28-ac35-42fb-ef0f-b7ea28d4f39d"
      },
      "execution_count": null,
      "outputs": [
        {
          "output_type": "execute_result",
          "data": {
            "text/plain": [
              "32512"
            ]
          },
          "metadata": {},
          "execution_count": 19
        }
      ]
    },
    {
      "cell_type": "code",
      "source": [
        "# Calcula a declividade a partir do MDE\n",
        "os.system('gdaldem slope -compute_edges /content/drive/MyDrive/KLABIN/Declividade_DSR.tif /content/drive/MyDrive/KLABIN/slope.tif')\n",
        "# olhar o tamanho da janela, testar diferentes tamanhos de janelas\n",
        "#0 a 37, 45, acima de 45\n",
        "#reclassify\n",
        "\n",
        "\n",
        "# Gera um buffer de 4.5m no shape de estradas\n",
        "estrada = gpd.read_file('/content/drive/MyDrive/KLABIN/Estradas.shp')\n",
        "estrada_buffer = estrada.buffer(4.5)\n",
        "estrada_buffer.to_file('/content/drive/MyDrive/KLABIN/estrada_buffer.shp')\n",
        "\n",
        "\n",
        "# Grava geometrias vetoriais da estrada no raster recortado no passo anterior\n",
        "os.system('gdal_rasterize -l estrada_buffer -burn 999.0 /content/drive/MyDrive/KLABIN/estrada_buffer.shp /content/drive/MyDrive/KLABIN/slope.tif')"
      ],
      "metadata": {
        "id": "Z8p-wqLFWpg0",
        "colab": {
          "base_uri": "https://localhost:8080/"
        },
        "outputId": "adbb6f9c-8e04-4d8b-9948-8be0f000fb1e"
      },
      "execution_count": null,
      "outputs": [
        {
          "output_type": "execute_result",
          "data": {
            "text/plain": [
              "0"
            ]
          },
          "metadata": {},
          "execution_count": 4
        }
      ]
    },
    {
      "cell_type": "code",
      "source": [
        "# Gera um buffer de 10m no shape de áreas produtivas\n",
        "area_p = gpd.read_file('/content/drive/MyDrive/KLABIN/Area_Produtiva.shp')\n",
        "area_p_buffer = area_p.buffer(10)\n",
        "area_p_buffer.to_file('/content/drive/MyDrive/KLABIN/area_p_buffer.shp')\n",
        "\n"
      ],
      "metadata": {
        "id": "mcprWR7OCUB5"
      },
      "execution_count": null,
      "outputs": []
    },
    {
      "cell_type": "code",
      "source": [
        "# Recorta o raster de declividade utilizando o buffer gerado anteriormente como máscara\n",
        "os.system('gdalwarp -of GTiff -cutline /content/drive/MyDrive/KLABIN/area_p_buffer.shp -cl area_p_buffer -crop_to_cutline /content/drive/MyDrive/KLABIN/slope.tif /content/drive/MyDrive/KLABIN/clip.tif')"
      ],
      "metadata": {
        "colab": {
          "base_uri": "https://localhost:8080/"
        },
        "id": "EeLl0EJXnCPr",
        "outputId": "85567da3-38d4-4df7-f1b1-5070915657b7"
      },
      "execution_count": null,
      "outputs": [
        {
          "output_type": "execute_result",
          "data": {
            "text/plain": [
              "0"
            ]
          },
          "metadata": {},
          "execution_count": 26
        }
      ]
    },
    {
      "cell_type": "code",
      "source": [
        "# Grava geometrias vetoriais da estrada no raster recortado no passo anterior\n",
        "os.system('gdal_rasterize -l estrada_buffer -burn 99.0 /content/drive/MyDrive/KLABIN/estrada_buffer.shp /content/drive/MyDrive/KLABIN/clip.tif')"
      ],
      "metadata": {
        "colab": {
          "base_uri": "https://localhost:8080/"
        },
        "id": "1K5JLgL6sJLl",
        "outputId": "e7d9e265-5165-49a9-b56f-9d69d486d261"
      },
      "execution_count": null,
      "outputs": [
        {
          "output_type": "execute_result",
          "data": {
            "text/plain": [
              "0"
            ]
          },
          "metadata": {},
          "execution_count": 27
        }
      ]
    },
    {
      "cell_type": "code",
      "source": [
        "# Produz um raster de proximidade (distância) da declividade com as estradas\n",
        "\n",
        "#inserir máscara\n",
        "os.system('gdal_proximity.py -srcband 1 -distunits PIXEL -values 99 -nodata 0.0 -ot Float32 -use_input_nodata YES -of GTiff /content/drive/MyDrive/KLABIN/clip.tif /content/drive/MyDrive/KLABIN/dist.tif')"
      ],
      "metadata": {
        "colab": {
          "base_uri": "https://localhost:8080/"
        },
        "id": "VmLPSmoUZVOl",
        "outputId": "67f18954-0227-4bd8-ae61-8d677f217fd9"
      },
      "execution_count": null,
      "outputs": [
        {
          "output_type": "execute_result",
          "data": {
            "text/plain": [
              "0"
            ]
          },
          "metadata": {},
          "execution_count": 11
        }
      ]
    },
    {
      "cell_type": "code",
      "source": [
        "#rasterize overwrite com estradas como 999"
      ],
      "metadata": {
        "id": "3J5K9MN4a0Hz"
      },
      "execution_count": null,
      "outputs": []
    }
  ]
}